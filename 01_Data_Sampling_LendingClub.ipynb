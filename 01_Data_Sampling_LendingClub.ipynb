{
 "cells": [
  {
   "cell_type": "markdown",
   "id": "4a6087dd",
   "metadata": {},
   "source": [
    "<p style=\"background:#484E6E; color:white; font-size: 2.1em; text-align:center\"> \n",
    "    <br><b> Lending Club</b><br>\n",
    "    <br>Data Sampling<br><br>\n",
    "    \n",
    "</p>"
   ]
  },
  {
   "cell_type": "markdown",
   "id": "293caa40",
   "metadata": {},
   "source": [
    "<p style=\"text-align: right;\">Module 3: Machine Learning<br>\n",
    "Sprint 3: Unsupervised Learning & Hyperparameter Tuning<br>\n",
    "Author : Renato Mariano</p>"
   ]
  },
  {
   "cell_type": "markdown",
   "id": "044e0123",
   "metadata": {},
   "source": [
    "<h1 style=\"color:#484E6E\">Introduction </h1>"
   ]
  },
  {
   "cell_type": "markdown",
   "id": "79091030",
   "metadata": {},
   "source": [
    "This data science project aims at automating lending decisions for a Lending Club. This dataset was provided direct by turing college on the following link: https://storage.googleapis.com/335-lending-club/lending-club.zip\n",
    "\n",
    "Similar datasets for the lending club can be found directly on kaggle.\n",
    "\n",
    "**What We Aim to Achieve**:\n",
    "\n",
    "- **Exploration**: We will delve into the dataset to extract valuable insights and prepare the data for further analysis.\n",
    "\n",
    "- **Understanding Data**: We will conduct an Exploratory Data Analysis (EDA) to uncover the underlying characteristics of the dataset and explore relationships between variables.\n",
    "\n",
    "- **Statistical Insight**: Our journey will include statistical inference to test hypotheses related to the rejected loan applications.\n",
    "\n",
    "- **Machine Learning Models**: We will develop and refine machine learning models designed to predict whether a loan application is accepted or rejected.\n",
    "\n",
    "- **Real-world Deployment**: Our final goal is to deploy the best-performing machine learning model on Google Cloud Platform for practical, real-world usage.\n",
    "\n",
    "- **Recommendations**: Throughout our exploration, we will provide valuable insights and recommendations to enhance our analysis and model performance.\n",
    "\n",
    "**Specific Objective**:\n",
    "1. Build a machine learning **model to classify loans as accepted or rejected**.\n",
    "\n",
    "2. **Predict the loan grade**.\n",
    "\n",
    "3. **Predict the loan subgrade and interest rate**."
   ]
  },
  {
   "cell_type": "markdown",
   "id": "b0bce787",
   "metadata": {},
   "source": [
    "<h1 style=\"color:#484E6E\">Data Sampling</h1>"
   ]
  },
  {
   "cell_type": "markdown",
   "id": "84ce1dd2",
   "metadata": {},
   "source": [
    "**This notebook was quickly used only for sampling the data into train, test and validation sets.** Before separation, **duplicated rows were eliminated**.\n",
    "\n",
    "**Our first sampling** of the data aims at creating a **model to reject of accept loans** (Object 1). \n",
    "In that way, the following steps will be followed:\n",
    "- in the accepted dataframe only the features found in rejected will be maintened.\n",
    "- EDA will be performed on the merged training data.\n",
    "- Pipelines and modeling section will be defined.\n",
    "\n",
    "**After, we will perform EDA on the remaining features of the accepted dataframe and accomplish Objectives 2 and 3**.\n",
    "\n",
    "Due to the large size of the dataset, we used the **polars library in for the sampling**."
   ]
  },
  {
   "cell_type": "code",
   "execution_count": 1,
   "id": "6a6b1001",
   "metadata": {},
   "outputs": [],
   "source": [
    "import polars as pl\n",
    "from time import time\n",
    "from sklearn.model_selection import train_test_split\n",
    "import gc"
   ]
  },
  {
   "cell_type": "markdown",
   "metadata": {},
   "source": [
    "<h2 style=\"color:#484E6E\">Rejected Dataframe</h2>"
   ]
  },
  {
   "cell_type": "code",
   "execution_count": 2,
   "id": "77522a79",
   "metadata": {},
   "outputs": [
    {
     "name": "stdout",
     "output_type": "stream",
     "text": [
      "Read csv with polars:  34.066680908203125 sec\n",
      "\n",
      "Shape of the dataframe: (27648741, 9)\n"
     ]
    },
    {
     "data": {
      "text/html": [
       "<div><style>\n",
       ".dataframe > thead > tr > th,\n",
       ".dataframe > tbody > tr > td {\n",
       "  text-align: right;\n",
       "  white-space: pre-wrap;\n",
       "}\n",
       "</style>\n",
       "<small>shape: (5, 9)</small><table border=\"1\" class=\"dataframe\"><thead><tr><th>Amount Requested</th><th>Application Date</th><th>Loan Title</th><th>Risk_Score</th><th>Debt-To-Income Ratio</th><th>Zip Code</th><th>State</th><th>Employment Length</th><th>Policy Code</th></tr><tr><td>f64</td><td>str</td><td>str</td><td>f64</td><td>str</td><td>str</td><td>str</td><td>str</td><td>f64</td></tr></thead><tbody><tr><td>1000.0</td><td>&quot;2007-05-26&quot;</td><td>&quot;Wedding Covere…</td><td>693.0</td><td>&quot;10%&quot;</td><td>&quot;481xx&quot;</td><td>&quot;NM&quot;</td><td>&quot;4 years&quot;</td><td>0.0</td></tr><tr><td>1000.0</td><td>&quot;2007-05-26&quot;</td><td>&quot;Consolidating …</td><td>703.0</td><td>&quot;10%&quot;</td><td>&quot;010xx&quot;</td><td>&quot;MA&quot;</td><td>&quot;&lt; 1 year&quot;</td><td>0.0</td></tr><tr><td>11000.0</td><td>&quot;2007-05-27&quot;</td><td>&quot;Want to consol…</td><td>715.0</td><td>&quot;10%&quot;</td><td>&quot;212xx&quot;</td><td>&quot;MD&quot;</td><td>&quot;1 year&quot;</td><td>0.0</td></tr><tr><td>6000.0</td><td>&quot;2007-05-27&quot;</td><td>&quot;waksman&quot;</td><td>698.0</td><td>&quot;38.64%&quot;</td><td>&quot;017xx&quot;</td><td>&quot;MA&quot;</td><td>&quot;&lt; 1 year&quot;</td><td>0.0</td></tr><tr><td>1500.0</td><td>&quot;2007-05-27&quot;</td><td>&quot;mdrigo&quot;</td><td>509.0</td><td>&quot;9.43%&quot;</td><td>&quot;209xx&quot;</td><td>&quot;MD&quot;</td><td>&quot;&lt; 1 year&quot;</td><td>0.0</td></tr></tbody></table></div>"
      ],
      "text/plain": [
       "shape: (5, 9)\n",
       "┌─────────────┬─────────────┬────────────┬────────────┬───┬──────────┬───────┬────────────┬────────┐\n",
       "│ Amount      ┆ Application ┆ Loan Title ┆ Risk_Score ┆ … ┆ Zip Code ┆ State ┆ Employment ┆ Policy │\n",
       "│ Requested   ┆ Date        ┆ ---        ┆ ---        ┆   ┆ ---      ┆ ---   ┆ Length     ┆ Code   │\n",
       "│ ---         ┆ ---         ┆ str        ┆ f64        ┆   ┆ str      ┆ str   ┆ ---        ┆ ---    │\n",
       "│ f64         ┆ str         ┆            ┆            ┆   ┆          ┆       ┆ str        ┆ f64    │\n",
       "╞═════════════╪═════════════╪════════════╪════════════╪═══╪══════════╪═══════╪════════════╪════════╡\n",
       "│ 1000.0      ┆ 2007-05-26  ┆ Wedding    ┆ 693.0      ┆ … ┆ 481xx    ┆ NM    ┆ 4 years    ┆ 0.0    │\n",
       "│             ┆             ┆ Covered    ┆            ┆   ┆          ┆       ┆            ┆        │\n",
       "│             ┆             ┆ but No     ┆            ┆   ┆          ┆       ┆            ┆        │\n",
       "│             ┆             ┆ Honeymoon  ┆            ┆   ┆          ┆       ┆            ┆        │\n",
       "│ 1000.0      ┆ 2007-05-26  ┆ Consolidat ┆ 703.0      ┆ … ┆ 010xx    ┆ MA    ┆ < 1 year   ┆ 0.0    │\n",
       "│             ┆             ┆ ing Debt   ┆            ┆   ┆          ┆       ┆            ┆        │\n",
       "│ 11000.0     ┆ 2007-05-27  ┆ Want to    ┆ 715.0      ┆ … ┆ 212xx    ┆ MD    ┆ 1 year     ┆ 0.0    │\n",
       "│             ┆             ┆ consolidat ┆            ┆   ┆          ┆       ┆            ┆        │\n",
       "│             ┆             ┆ e my debt  ┆            ┆   ┆          ┆       ┆            ┆        │\n",
       "│ 6000.0      ┆ 2007-05-27  ┆ waksman    ┆ 698.0      ┆ … ┆ 017xx    ┆ MA    ┆ < 1 year   ┆ 0.0    │\n",
       "│ 1500.0      ┆ 2007-05-27  ┆ mdrigo     ┆ 509.0      ┆ … ┆ 209xx    ┆ MD    ┆ < 1 year   ┆ 0.0    │\n",
       "└─────────────┴─────────────┴────────────┴────────────┴───┴──────────┴───────┴────────────┴────────┘"
      ]
     },
     "execution_count": 2,
     "metadata": {},
     "output_type": "execute_result"
    }
   ],
   "source": [
    "start = time()\n",
    "rejected_df = pl.read_csv(\"data/rejected_2007_to_2018q4.csv\", infer_schema_length=10000, ignore_errors=True)\n",
    "end = time()\n",
    "print(\"Read csv with polars: \",(end-start),\"sec\\n\")\n",
    "print(f\"Shape of the dataframe: {rejected_df.shape}\")\n",
    "rejected_df.head(5)"
   ]
  },
  {
   "cell_type": "code",
   "execution_count": 3,
   "id": "bd1828d8",
   "metadata": {},
   "outputs": [
    {
     "name": "stdout",
     "output_type": "stream",
     "text": [
      "The number of duplicated values is: 299488\n"
     ]
    },
    {
     "data": {
      "text/html": [
       "<div><style>\n",
       ".dataframe > thead > tr > th,\n",
       ".dataframe > tbody > tr > td {\n",
       "  text-align: right;\n",
       "  white-space: pre-wrap;\n",
       "}\n",
       "</style>\n",
       "<small>shape: (10, 9)</small><table border=\"1\" class=\"dataframe\"><thead><tr><th>Amount Requested</th><th>Application Date</th><th>Loan Title</th><th>Risk_Score</th><th>Debt-To-Income Ratio</th><th>Zip Code</th><th>State</th><th>Employment Length</th><th>Policy Code</th></tr><tr><td>f64</td><td>str</td><td>str</td><td>f64</td><td>str</td><td>str</td><td>str</td><td>str</td><td>f64</td></tr></thead><tbody><tr><td>30000.0</td><td>&quot;2007-11-21&quot;</td><td>&quot;debt_consolida…</td><td>null</td><td>&quot;100%&quot;</td><td>&quot;902xx&quot;</td><td>&quot;FL&quot;</td><td>&quot;10+ years&quot;</td><td>0.0</td></tr><tr><td>30000.0</td><td>&quot;2007-11-21&quot;</td><td>&quot;debt_consolida…</td><td>null</td><td>&quot;100%&quot;</td><td>&quot;902xx&quot;</td><td>&quot;FL&quot;</td><td>&quot;10+ years&quot;</td><td>0.0</td></tr><tr><td>5000.0</td><td>&quot;2007-11-28&quot;</td><td>&quot;other&quot;</td><td>646.0</td><td>&quot;13.36%&quot;</td><td>&quot;085xx&quot;</td><td>&quot;NJ&quot;</td><td>&quot;10+ years&quot;</td><td>0.0</td></tr><tr><td>5000.0</td><td>&quot;2007-11-28&quot;</td><td>&quot;other&quot;</td><td>646.0</td><td>&quot;13.36%&quot;</td><td>&quot;085xx&quot;</td><td>&quot;NJ&quot;</td><td>&quot;10+ years&quot;</td><td>0.0</td></tr><tr><td>9000.0</td><td>&quot;2008-03-26&quot;</td><td>&quot;major_purchase…</td><td>null</td><td>&quot;0%&quot;</td><td>&quot;916xx&quot;</td><td>&quot;CA&quot;</td><td>&quot;&lt; 1 year&quot;</td><td>0.0</td></tr><tr><td>9000.0</td><td>&quot;2008-03-26&quot;</td><td>&quot;major_purchase…</td><td>null</td><td>&quot;0%&quot;</td><td>&quot;916xx&quot;</td><td>&quot;CA&quot;</td><td>&quot;&lt; 1 year&quot;</td><td>0.0</td></tr><tr><td>9000.0</td><td>&quot;2008-03-26&quot;</td><td>&quot;major_purchase…</td><td>null</td><td>&quot;0%&quot;</td><td>&quot;916xx&quot;</td><td>&quot;CA&quot;</td><td>&quot;&lt; 1 year&quot;</td><td>0.0</td></tr><tr><td>7000.0</td><td>&quot;2008-06-19&quot;</td><td>&quot; &quot;</td><td>667.0</td><td>&quot;0%&quot;</td><td>&quot;750xx&quot;</td><td>&quot;TX&quot;</td><td>&quot;2 years&quot;</td><td>0.0</td></tr><tr><td>7000.0</td><td>&quot;2008-06-19&quot;</td><td>&quot; &quot;</td><td>667.0</td><td>&quot;0%&quot;</td><td>&quot;750xx&quot;</td><td>&quot;TX&quot;</td><td>&quot;2 years&quot;</td><td>0.0</td></tr><tr><td>6200.0</td><td>&quot;2008-12-09&quot;</td><td>&quot;My Future need…</td><td>null</td><td>&quot;-1%&quot;</td><td>&quot;327xx&quot;</td><td>&quot;FL&quot;</td><td>&quot;&lt; 1 year&quot;</td><td>0.0</td></tr></tbody></table></div>"
      ],
      "text/plain": [
       "shape: (10, 9)\n",
       "┌─────────────┬─────────────┬────────────┬────────────┬───┬──────────┬───────┬────────────┬────────┐\n",
       "│ Amount      ┆ Application ┆ Loan Title ┆ Risk_Score ┆ … ┆ Zip Code ┆ State ┆ Employment ┆ Policy │\n",
       "│ Requested   ┆ Date        ┆ ---        ┆ ---        ┆   ┆ ---      ┆ ---   ┆ Length     ┆ Code   │\n",
       "│ ---         ┆ ---         ┆ str        ┆ f64        ┆   ┆ str      ┆ str   ┆ ---        ┆ ---    │\n",
       "│ f64         ┆ str         ┆            ┆            ┆   ┆          ┆       ┆ str        ┆ f64    │\n",
       "╞═════════════╪═════════════╪════════════╪════════════╪═══╪══════════╪═══════╪════════════╪════════╡\n",
       "│ 30000.0     ┆ 2007-11-21  ┆ debt_conso ┆ null       ┆ … ┆ 902xx    ┆ FL    ┆ 10+ years  ┆ 0.0    │\n",
       "│             ┆             ┆ lidation   ┆            ┆   ┆          ┆       ┆            ┆        │\n",
       "│ 30000.0     ┆ 2007-11-21  ┆ debt_conso ┆ null       ┆ … ┆ 902xx    ┆ FL    ┆ 10+ years  ┆ 0.0    │\n",
       "│             ┆             ┆ lidation   ┆            ┆   ┆          ┆       ┆            ┆        │\n",
       "│ 5000.0      ┆ 2007-11-28  ┆ other      ┆ 646.0      ┆ … ┆ 085xx    ┆ NJ    ┆ 10+ years  ┆ 0.0    │\n",
       "│ 5000.0      ┆ 2007-11-28  ┆ other      ┆ 646.0      ┆ … ┆ 085xx    ┆ NJ    ┆ 10+ years  ┆ 0.0    │\n",
       "│ …           ┆ …           ┆ …          ┆ …          ┆ … ┆ …        ┆ …     ┆ …          ┆ …      │\n",
       "│ 9000.0      ┆ 2008-03-26  ┆ major_purc ┆ null       ┆ … ┆ 916xx    ┆ CA    ┆ < 1 year   ┆ 0.0    │\n",
       "│             ┆             ┆ hase       ┆            ┆   ┆          ┆       ┆            ┆        │\n",
       "│ 7000.0      ┆ 2008-06-19  ┆            ┆ 667.0      ┆ … ┆ 750xx    ┆ TX    ┆ 2 years    ┆ 0.0    │\n",
       "│ 7000.0      ┆ 2008-06-19  ┆            ┆ 667.0      ┆ … ┆ 750xx    ┆ TX    ┆ 2 years    ┆ 0.0    │\n",
       "│ 6200.0      ┆ 2008-12-09  ┆ My Future  ┆ null       ┆ … ┆ 327xx    ┆ FL    ┆ < 1 year   ┆ 0.0    │\n",
       "│             ┆             ┆ needs      ┆            ┆   ┆          ┆       ┆            ┆        │\n",
       "│             ┆             ┆ help....   ┆            ┆   ┆          ┆       ┆            ┆        │\n",
       "└─────────────┴─────────────┴────────────┴────────────┴───┴──────────┴───────┴────────────┴────────┘"
      ]
     },
     "execution_count": 3,
     "metadata": {},
     "output_type": "execute_result"
    }
   ],
   "source": [
    "duplicated = rejected_df.filter(rejected_df.is_duplicated())\n",
    "print(f\"The number of duplicated values is: {duplicated.shape[0]}\")\n",
    "duplicated.head(10)"
   ]
  },
  {
   "cell_type": "code",
   "execution_count": 4,
   "metadata": {},
   "outputs": [
    {
     "data": {
      "text/html": [
       "<div><style>\n",
       ".dataframe > thead > tr > th,\n",
       ".dataframe > tbody > tr > td {\n",
       "  text-align: right;\n",
       "  white-space: pre-wrap;\n",
       "}\n",
       "</style>\n",
       "<small>shape: (0, 9)</small><table border=\"1\" class=\"dataframe\"><thead><tr><th>Amount Requested</th><th>Application Date</th><th>Loan Title</th><th>Risk_Score</th><th>Debt-To-Income Ratio</th><th>Zip Code</th><th>State</th><th>Employment Length</th><th>Policy Code</th></tr><tr><td>f64</td><td>str</td><td>str</td><td>f64</td><td>str</td><td>str</td><td>str</td><td>str</td><td>f64</td></tr></thead><tbody></tbody></table></div>"
      ],
      "text/plain": [
       "shape: (0, 9)\n",
       "┌──────────────┬──────────────┬───────┬──────────────┬───┬──────────┬───────┬─────────────┬────────┐\n",
       "│ Amount       ┆ Application  ┆ Loan  ┆ Risk_Score   ┆ … ┆ Zip Code ┆ State ┆ Employment  ┆ Policy │\n",
       "│ Requested    ┆ Date         ┆ Title ┆ ---          ┆   ┆ ---      ┆ ---   ┆ Length      ┆ Code   │\n",
       "│ ---          ┆ ---          ┆ ---   ┆ f64          ┆   ┆ str      ┆ str   ┆ ---         ┆ ---    │\n",
       "│ f64          ┆ str          ┆ str   ┆              ┆   ┆          ┆       ┆ str         ┆ f64    │\n",
       "╞══════════════╪══════════════╪═══════╪══════════════╪═══╪══════════╪═══════╪═════════════╪════════╡\n",
       "└──────────────┴──────────────┴───────┴──────────────┴───┴──────────┴───────┴─────────────┴────────┘"
      ]
     },
     "execution_count": 4,
     "metadata": {},
     "output_type": "execute_result"
    }
   ],
   "source": [
    "rejected_df_no_dupli = rejected_df.unique(keep='none')\n",
    "rejected_df_no_dupli.filter(rejected_df_no_dupli.is_duplicated())"
   ]
  },
  {
   "cell_type": "code",
   "execution_count": 5,
   "metadata": {},
   "outputs": [
    {
     "data": {
      "text/plain": [
       "20"
      ]
     },
     "execution_count": 5,
     "metadata": {},
     "output_type": "execute_result"
    }
   ],
   "source": [
    "del rejected_df\n",
    "gc.collect()"
   ]
  },
  {
   "cell_type": "markdown",
   "metadata": {},
   "source": [
    "Although there is no client id on this dataframe, we can see that **these requests are very likely to come from the same client, thus they were dropped**.\n",
    "\n",
    "Bellow, some slight **changes to the columns' names** are applied and also a **removal of the percentage signs** in the Debt-To-Income Ratio."
   ]
  },
  {
   "cell_type": "code",
   "execution_count": 6,
   "metadata": {},
   "outputs": [],
   "source": [
    "dict_cols = {\n",
    "    \"Amount Requested\": \"Amount_Requested\",\n",
    "    \"Loan Title\": \"Loan_Title\",\n",
    "    \"Debt-To-Income Ratio\": \"Debt-To-Income_Ratio\",\n",
    "    \"Zip Code\": \"Zip_Code\",\n",
    "    \"Employment Length\": \"Employment_Length\",\n",
    "    \"Policy Code\": \"Policy_Code\",\n",
    "}\n",
    "rejected_df_no_dupli = rejected_df_no_dupli.rename(dict_cols)"
   ]
  },
  {
   "cell_type": "code",
   "execution_count": 7,
   "metadata": {},
   "outputs": [
    {
     "data": {
      "text/html": [
       "<div><style>\n",
       ".dataframe > thead > tr > th,\n",
       ".dataframe > tbody > tr > td {\n",
       "  text-align: right;\n",
       "  white-space: pre-wrap;\n",
       "}\n",
       "</style>\n",
       "<small>shape: (5, 9)</small><table border=\"1\" class=\"dataframe\"><thead><tr><th>Amount_Requested</th><th>Application Date</th><th>Loan_Title</th><th>Risk_Score</th><th>Debt-To-Income_Ratio</th><th>Zip_Code</th><th>State</th><th>Employment_Length</th><th>Policy_Code</th></tr><tr><td>f64</td><td>str</td><td>str</td><td>f64</td><td>f64</td><td>str</td><td>str</td><td>str</td><td>f64</td></tr></thead><tbody><tr><td>1000.0</td><td>&quot;2007-05-26&quot;</td><td>&quot;Wedding Covere…</td><td>693.0</td><td>10.0</td><td>&quot;481xx&quot;</td><td>&quot;NM&quot;</td><td>&quot;4 years&quot;</td><td>0.0</td></tr><tr><td>1000.0</td><td>&quot;2007-05-26&quot;</td><td>&quot;Consolidating …</td><td>703.0</td><td>10.0</td><td>&quot;010xx&quot;</td><td>&quot;MA&quot;</td><td>&quot;&lt; 1 year&quot;</td><td>0.0</td></tr><tr><td>11000.0</td><td>&quot;2007-05-27&quot;</td><td>&quot;Want to consol…</td><td>715.0</td><td>10.0</td><td>&quot;212xx&quot;</td><td>&quot;MD&quot;</td><td>&quot;1 year&quot;</td><td>0.0</td></tr><tr><td>6000.0</td><td>&quot;2007-05-27&quot;</td><td>&quot;waksman&quot;</td><td>698.0</td><td>38.64</td><td>&quot;017xx&quot;</td><td>&quot;MA&quot;</td><td>&quot;&lt; 1 year&quot;</td><td>0.0</td></tr><tr><td>1500.0</td><td>&quot;2007-05-27&quot;</td><td>&quot;mdrigo&quot;</td><td>509.0</td><td>9.43</td><td>&quot;209xx&quot;</td><td>&quot;MD&quot;</td><td>&quot;&lt; 1 year&quot;</td><td>0.0</td></tr></tbody></table></div>"
      ],
      "text/plain": [
       "shape: (5, 9)\n",
       "┌────────────┬────────────┬────────────┬────────────┬───┬──────────┬───────┬───────────┬───────────┐\n",
       "│ Amount_Req ┆ Applicatio ┆ Loan_Title ┆ Risk_Score ┆ … ┆ Zip_Code ┆ State ┆ Employmen ┆ Policy_Co │\n",
       "│ uested     ┆ n Date     ┆ ---        ┆ ---        ┆   ┆ ---      ┆ ---   ┆ t_Length  ┆ de        │\n",
       "│ ---        ┆ ---        ┆ str        ┆ f64        ┆   ┆ str      ┆ str   ┆ ---       ┆ ---       │\n",
       "│ f64        ┆ str        ┆            ┆            ┆   ┆          ┆       ┆ str       ┆ f64       │\n",
       "╞════════════╪════════════╪════════════╪════════════╪═══╪══════════╪═══════╪═══════════╪═══════════╡\n",
       "│ 1000.0     ┆ 2007-05-26 ┆ Wedding    ┆ 693.0      ┆ … ┆ 481xx    ┆ NM    ┆ 4 years   ┆ 0.0       │\n",
       "│            ┆            ┆ Covered    ┆            ┆   ┆          ┆       ┆           ┆           │\n",
       "│            ┆            ┆ but No     ┆            ┆   ┆          ┆       ┆           ┆           │\n",
       "│            ┆            ┆ Honeymoon  ┆            ┆   ┆          ┆       ┆           ┆           │\n",
       "│ 1000.0     ┆ 2007-05-26 ┆ Consolidat ┆ 703.0      ┆ … ┆ 010xx    ┆ MA    ┆ < 1 year  ┆ 0.0       │\n",
       "│            ┆            ┆ ing Debt   ┆            ┆   ┆          ┆       ┆           ┆           │\n",
       "│ 11000.0    ┆ 2007-05-27 ┆ Want to    ┆ 715.0      ┆ … ┆ 212xx    ┆ MD    ┆ 1 year    ┆ 0.0       │\n",
       "│            ┆            ┆ consolidat ┆            ┆   ┆          ┆       ┆           ┆           │\n",
       "│            ┆            ┆ e my debt  ┆            ┆   ┆          ┆       ┆           ┆           │\n",
       "│ 6000.0     ┆ 2007-05-27 ┆ waksman    ┆ 698.0      ┆ … ┆ 017xx    ┆ MA    ┆ < 1 year  ┆ 0.0       │\n",
       "│ 1500.0     ┆ 2007-05-27 ┆ mdrigo     ┆ 509.0      ┆ … ┆ 209xx    ┆ MD    ┆ < 1 year  ┆ 0.0       │\n",
       "└────────────┴────────────┴────────────┴────────────┴───┴──────────┴───────┴───────────┴───────────┘"
      ]
     },
     "execution_count": 7,
     "metadata": {},
     "output_type": "execute_result"
    }
   ],
   "source": [
    "rejected_df_no_dupli = rejected_df_no_dupli.with_columns(pl.col(\"Debt-To-Income_Ratio\").str.replace(r\"%\", \"\").cast(pl.Float64))\n",
    "rejected_df_no_dupli.head()"
   ]
  },
  {
   "cell_type": "markdown",
   "metadata": {},
   "source": [
    "<h2 style=\"color:#484E6E\">Accepted Dataframe</h2>"
   ]
  },
  {
   "cell_type": "code",
   "execution_count": 8,
   "metadata": {},
   "outputs": [],
   "source": [
    "import polars as pl\n",
    "from time import time\n",
    "from sklearn.model_selection import train_test_split\n",
    "import gc"
   ]
  },
  {
   "cell_type": "code",
   "execution_count": 9,
   "id": "447ecdef",
   "metadata": {},
   "outputs": [
    {
     "name": "stdout",
     "output_type": "stream",
     "text": [
      "Read csv with polars:  31.44804286956787 sec\n",
      "\n",
      "Shape of the dataframe: (2260701, 151)\n"
     ]
    },
    {
     "data": {
      "text/html": [
       "<div><style>\n",
       ".dataframe > thead > tr > th,\n",
       ".dataframe > tbody > tr > td {\n",
       "  text-align: right;\n",
       "  white-space: pre-wrap;\n",
       "}\n",
       "</style>\n",
       "<small>shape: (5, 151)</small><table border=\"1\" class=\"dataframe\"><thead><tr><th>id</th><th>member_id</th><th>loan_amnt</th><th>funded_amnt</th><th>funded_amnt_inv</th><th>term</th><th>int_rate</th><th>installment</th><th>grade</th><th>sub_grade</th><th>emp_title</th><th>emp_length</th><th>home_ownership</th><th>annual_inc</th><th>verification_status</th><th>issue_d</th><th>loan_status</th><th>pymnt_plan</th><th>url</th><th>desc</th><th>purpose</th><th>title</th><th>zip_code</th><th>addr_state</th><th>dti</th><th>delinq_2yrs</th><th>earliest_cr_line</th><th>fico_range_low</th><th>fico_range_high</th><th>inq_last_6mths</th><th>mths_since_last_delinq</th><th>mths_since_last_record</th><th>open_acc</th><th>pub_rec</th><th>revol_bal</th><th>revol_util</th><th>total_acc</th><th>&hellip;</th><th>total_il_high_credit_limit</th><th>revol_bal_joint</th><th>sec_app_fico_range_low</th><th>sec_app_fico_range_high</th><th>sec_app_earliest_cr_line</th><th>sec_app_inq_last_6mths</th><th>sec_app_mort_acc</th><th>sec_app_open_acc</th><th>sec_app_revol_util</th><th>sec_app_open_act_il</th><th>sec_app_num_rev_accts</th><th>sec_app_chargeoff_within_12_mths</th><th>sec_app_collections_12_mths_ex_med</th><th>sec_app_mths_since_last_major_derog</th><th>hardship_flag</th><th>hardship_type</th><th>hardship_reason</th><th>hardship_status</th><th>deferral_term</th><th>hardship_amount</th><th>hardship_start_date</th><th>hardship_end_date</th><th>payment_plan_start_date</th><th>hardship_length</th><th>hardship_dpd</th><th>hardship_loan_status</th><th>orig_projected_additional_accrued_interest</th><th>hardship_payoff_balance_amount</th><th>hardship_last_payment_amount</th><th>disbursement_method</th><th>debt_settlement_flag</th><th>debt_settlement_flag_date</th><th>settlement_status</th><th>settlement_date</th><th>settlement_amount</th><th>settlement_percentage</th><th>settlement_term</th></tr><tr><td>i64</td><td>str</td><td>f64</td><td>f64</td><td>f64</td><td>str</td><td>f64</td><td>f64</td><td>str</td><td>str</td><td>str</td><td>str</td><td>str</td><td>f64</td><td>str</td><td>str</td><td>str</td><td>str</td><td>str</td><td>str</td><td>str</td><td>str</td><td>str</td><td>str</td><td>f64</td><td>f64</td><td>str</td><td>f64</td><td>f64</td><td>f64</td><td>f64</td><td>f64</td><td>f64</td><td>f64</td><td>f64</td><td>f64</td><td>f64</td><td>&hellip;</td><td>f64</td><td>str</td><td>str</td><td>str</td><td>str</td><td>str</td><td>str</td><td>str</td><td>str</td><td>str</td><td>str</td><td>str</td><td>str</td><td>str</td><td>str</td><td>str</td><td>str</td><td>str</td><td>f64</td><td>f64</td><td>str</td><td>str</td><td>str</td><td>f64</td><td>f64</td><td>str</td><td>f64</td><td>f64</td><td>f64</td><td>str</td><td>str</td><td>str</td><td>str</td><td>str</td><td>f64</td><td>f64</td><td>f64</td></tr></thead><tbody><tr><td>68407277</td><td>null</td><td>3600.0</td><td>3600.0</td><td>3600.0</td><td>&quot; 36 months&quot;</td><td>13.99</td><td>123.03</td><td>&quot;C&quot;</td><td>&quot;C4&quot;</td><td>&quot;leadman&quot;</td><td>&quot;10+ years&quot;</td><td>&quot;MORTGAGE&quot;</td><td>55000.0</td><td>&quot;Not Verified&quot;</td><td>&quot;Dec-2015&quot;</td><td>&quot;Fully Paid&quot;</td><td>&quot;n&quot;</td><td>&quot;https://lendin…</td><td>null</td><td>&quot;debt_consolida…</td><td>&quot;Debt consolida…</td><td>&quot;190xx&quot;</td><td>&quot;PA&quot;</td><td>5.91</td><td>0.0</td><td>&quot;Aug-2003&quot;</td><td>675.0</td><td>679.0</td><td>1.0</td><td>30.0</td><td>null</td><td>7.0</td><td>0.0</td><td>2765.0</td><td>29.7</td><td>13.0</td><td>&hellip;</td><td>13734.0</td><td>null</td><td>null</td><td>null</td><td>null</td><td>null</td><td>null</td><td>null</td><td>null</td><td>null</td><td>null</td><td>null</td><td>null</td><td>null</td><td>&quot;N&quot;</td><td>null</td><td>null</td><td>null</td><td>null</td><td>null</td><td>null</td><td>null</td><td>null</td><td>null</td><td>null</td><td>null</td><td>null</td><td>null</td><td>null</td><td>&quot;Cash&quot;</td><td>&quot;N&quot;</td><td>null</td><td>null</td><td>null</td><td>null</td><td>null</td><td>null</td></tr><tr><td>68355089</td><td>null</td><td>24700.0</td><td>24700.0</td><td>24700.0</td><td>&quot; 36 months&quot;</td><td>11.99</td><td>820.28</td><td>&quot;C&quot;</td><td>&quot;C1&quot;</td><td>&quot;Engineer&quot;</td><td>&quot;10+ years&quot;</td><td>&quot;MORTGAGE&quot;</td><td>65000.0</td><td>&quot;Not Verified&quot;</td><td>&quot;Dec-2015&quot;</td><td>&quot;Fully Paid&quot;</td><td>&quot;n&quot;</td><td>&quot;https://lendin…</td><td>null</td><td>&quot;small_business…</td><td>&quot;Business&quot;</td><td>&quot;577xx&quot;</td><td>&quot;SD&quot;</td><td>16.06</td><td>1.0</td><td>&quot;Dec-1999&quot;</td><td>715.0</td><td>719.0</td><td>4.0</td><td>6.0</td><td>null</td><td>22.0</td><td>0.0</td><td>21470.0</td><td>19.2</td><td>38.0</td><td>&hellip;</td><td>24667.0</td><td>null</td><td>null</td><td>null</td><td>null</td><td>null</td><td>null</td><td>null</td><td>null</td><td>null</td><td>null</td><td>null</td><td>null</td><td>null</td><td>&quot;N&quot;</td><td>null</td><td>null</td><td>null</td><td>null</td><td>null</td><td>null</td><td>null</td><td>null</td><td>null</td><td>null</td><td>null</td><td>null</td><td>null</td><td>null</td><td>&quot;Cash&quot;</td><td>&quot;N&quot;</td><td>null</td><td>null</td><td>null</td><td>null</td><td>null</td><td>null</td></tr><tr><td>68341763</td><td>null</td><td>20000.0</td><td>20000.0</td><td>20000.0</td><td>&quot; 60 months&quot;</td><td>10.78</td><td>432.66</td><td>&quot;B&quot;</td><td>&quot;B4&quot;</td><td>&quot;truck driver&quot;</td><td>&quot;10+ years&quot;</td><td>&quot;MORTGAGE&quot;</td><td>63000.0</td><td>&quot;Not Verified&quot;</td><td>&quot;Dec-2015&quot;</td><td>&quot;Fully Paid&quot;</td><td>&quot;n&quot;</td><td>&quot;https://lendin…</td><td>null</td><td>&quot;home_improveme…</td><td>null</td><td>&quot;605xx&quot;</td><td>&quot;IL&quot;</td><td>10.78</td><td>0.0</td><td>&quot;Aug-2000&quot;</td><td>695.0</td><td>699.0</td><td>0.0</td><td>null</td><td>null</td><td>6.0</td><td>0.0</td><td>7869.0</td><td>56.2</td><td>18.0</td><td>&hellip;</td><td>14877.0</td><td>null</td><td>null</td><td>null</td><td>null</td><td>null</td><td>null</td><td>null</td><td>null</td><td>null</td><td>null</td><td>null</td><td>null</td><td>null</td><td>&quot;N&quot;</td><td>null</td><td>null</td><td>null</td><td>null</td><td>null</td><td>null</td><td>null</td><td>null</td><td>null</td><td>null</td><td>null</td><td>null</td><td>null</td><td>null</td><td>&quot;Cash&quot;</td><td>&quot;N&quot;</td><td>null</td><td>null</td><td>null</td><td>null</td><td>null</td><td>null</td></tr><tr><td>66310712</td><td>null</td><td>35000.0</td><td>35000.0</td><td>35000.0</td><td>&quot; 60 months&quot;</td><td>14.85</td><td>829.9</td><td>&quot;C&quot;</td><td>&quot;C5&quot;</td><td>&quot;Information Sy…</td><td>&quot;10+ years&quot;</td><td>&quot;MORTGAGE&quot;</td><td>110000.0</td><td>&quot;Source Verifie…</td><td>&quot;Dec-2015&quot;</td><td>&quot;Current&quot;</td><td>&quot;n&quot;</td><td>&quot;https://lendin…</td><td>null</td><td>&quot;debt_consolida…</td><td>&quot;Debt consolida…</td><td>&quot;076xx&quot;</td><td>&quot;NJ&quot;</td><td>17.06</td><td>0.0</td><td>&quot;Sep-2008&quot;</td><td>785.0</td><td>789.0</td><td>0.0</td><td>null</td><td>null</td><td>13.0</td><td>0.0</td><td>7802.0</td><td>11.6</td><td>17.0</td><td>&hellip;</td><td>18000.0</td><td>null</td><td>null</td><td>null</td><td>null</td><td>null</td><td>null</td><td>null</td><td>null</td><td>null</td><td>null</td><td>null</td><td>null</td><td>null</td><td>&quot;N&quot;</td><td>null</td><td>null</td><td>null</td><td>null</td><td>null</td><td>null</td><td>null</td><td>null</td><td>null</td><td>null</td><td>null</td><td>null</td><td>null</td><td>null</td><td>&quot;Cash&quot;</td><td>&quot;N&quot;</td><td>null</td><td>null</td><td>null</td><td>null</td><td>null</td><td>null</td></tr><tr><td>68476807</td><td>null</td><td>10400.0</td><td>10400.0</td><td>10400.0</td><td>&quot; 60 months&quot;</td><td>22.45</td><td>289.91</td><td>&quot;F&quot;</td><td>&quot;F1&quot;</td><td>&quot;Contract Speci…</td><td>&quot;3 years&quot;</td><td>&quot;MORTGAGE&quot;</td><td>104433.0</td><td>&quot;Source Verifie…</td><td>&quot;Dec-2015&quot;</td><td>&quot;Fully Paid&quot;</td><td>&quot;n&quot;</td><td>&quot;https://lendin…</td><td>null</td><td>&quot;major_purchase…</td><td>&quot;Major purchase…</td><td>&quot;174xx&quot;</td><td>&quot;PA&quot;</td><td>25.37</td><td>1.0</td><td>&quot;Jun-1998&quot;</td><td>695.0</td><td>699.0</td><td>3.0</td><td>12.0</td><td>null</td><td>12.0</td><td>0.0</td><td>21929.0</td><td>64.5</td><td>35.0</td><td>&hellip;</td><td>88097.0</td><td>null</td><td>null</td><td>null</td><td>null</td><td>null</td><td>null</td><td>null</td><td>null</td><td>null</td><td>null</td><td>null</td><td>null</td><td>null</td><td>&quot;N&quot;</td><td>null</td><td>null</td><td>null</td><td>null</td><td>null</td><td>null</td><td>null</td><td>null</td><td>null</td><td>null</td><td>null</td><td>null</td><td>null</td><td>null</td><td>&quot;Cash&quot;</td><td>&quot;N&quot;</td><td>null</td><td>null</td><td>null</td><td>null</td><td>null</td><td>null</td></tr></tbody></table></div>"
      ],
      "text/plain": [
       "shape: (5, 151)\n",
       "┌──────────┬───────────┬───────────┬───────────┬───┬───────────┬───────────┬───────────┬───────────┐\n",
       "│ id       ┆ member_id ┆ loan_amnt ┆ funded_am ┆ … ┆ settlemen ┆ settlemen ┆ settlemen ┆ settlemen │\n",
       "│ ---      ┆ ---       ┆ ---       ┆ nt        ┆   ┆ t_date    ┆ t_amount  ┆ t_percent ┆ t_term    │\n",
       "│ i64      ┆ str       ┆ f64       ┆ ---       ┆   ┆ ---       ┆ ---       ┆ age       ┆ ---       │\n",
       "│          ┆           ┆           ┆ f64       ┆   ┆ str       ┆ f64       ┆ ---       ┆ f64       │\n",
       "│          ┆           ┆           ┆           ┆   ┆           ┆           ┆ f64       ┆           │\n",
       "╞══════════╪═══════════╪═══════════╪═══════════╪═══╪═══════════╪═══════════╪═══════════╪═══════════╡\n",
       "│ 68407277 ┆ null      ┆ 3600.0    ┆ 3600.0    ┆ … ┆ null      ┆ null      ┆ null      ┆ null      │\n",
       "│ 68355089 ┆ null      ┆ 24700.0   ┆ 24700.0   ┆ … ┆ null      ┆ null      ┆ null      ┆ null      │\n",
       "│ 68341763 ┆ null      ┆ 20000.0   ┆ 20000.0   ┆ … ┆ null      ┆ null      ┆ null      ┆ null      │\n",
       "│ 66310712 ┆ null      ┆ 35000.0   ┆ 35000.0   ┆ … ┆ null      ┆ null      ┆ null      ┆ null      │\n",
       "│ 68476807 ┆ null      ┆ 10400.0   ┆ 10400.0   ┆ … ┆ null      ┆ null      ┆ null      ┆ null      │\n",
       "└──────────┴───────────┴───────────┴───────────┴───┴───────────┴───────────┴───────────┴───────────┘"
      ]
     },
     "execution_count": 9,
     "metadata": {},
     "output_type": "execute_result"
    }
   ],
   "source": [
    "start = time()\n",
    "accepted_df = pl.read_csv(\"data/accepted_2007_to_2018q4.csv\", infer_schema_length=10000, ignore_errors=True)\n",
    "end = time()\n",
    "print(\"Read csv with polars: \",(end-start),\"sec\\n\")\n",
    "print(f\"Shape of the dataframe: {accepted_df.shape}\")\n",
    "accepted_df.head(5)"
   ]
  },
  {
   "cell_type": "code",
   "execution_count": 10,
   "metadata": {},
   "outputs": [
    {
     "name": "stdout",
     "output_type": "stream",
     "text": [
      "The number of duplicated values is: 33\n"
     ]
    },
    {
     "data": {
      "text/html": [
       "<div><style>\n",
       ".dataframe > thead > tr > th,\n",
       ".dataframe > tbody > tr > td {\n",
       "  text-align: right;\n",
       "  white-space: pre-wrap;\n",
       "}\n",
       "</style>\n",
       "<small>shape: (4, 151)</small><table border=\"1\" class=\"dataframe\"><thead><tr><th>id</th><th>member_id</th><th>loan_amnt</th><th>funded_amnt</th><th>funded_amnt_inv</th><th>term</th><th>int_rate</th><th>installment</th><th>grade</th><th>sub_grade</th><th>emp_title</th><th>emp_length</th><th>home_ownership</th><th>annual_inc</th><th>verification_status</th><th>issue_d</th><th>loan_status</th><th>pymnt_plan</th><th>url</th><th>desc</th><th>purpose</th><th>title</th><th>zip_code</th><th>addr_state</th><th>dti</th><th>delinq_2yrs</th><th>earliest_cr_line</th><th>fico_range_low</th><th>fico_range_high</th><th>inq_last_6mths</th><th>mths_since_last_delinq</th><th>mths_since_last_record</th><th>open_acc</th><th>pub_rec</th><th>revol_bal</th><th>revol_util</th><th>total_acc</th><th>&hellip;</th><th>total_il_high_credit_limit</th><th>revol_bal_joint</th><th>sec_app_fico_range_low</th><th>sec_app_fico_range_high</th><th>sec_app_earliest_cr_line</th><th>sec_app_inq_last_6mths</th><th>sec_app_mort_acc</th><th>sec_app_open_acc</th><th>sec_app_revol_util</th><th>sec_app_open_act_il</th><th>sec_app_num_rev_accts</th><th>sec_app_chargeoff_within_12_mths</th><th>sec_app_collections_12_mths_ex_med</th><th>sec_app_mths_since_last_major_derog</th><th>hardship_flag</th><th>hardship_type</th><th>hardship_reason</th><th>hardship_status</th><th>deferral_term</th><th>hardship_amount</th><th>hardship_start_date</th><th>hardship_end_date</th><th>payment_plan_start_date</th><th>hardship_length</th><th>hardship_dpd</th><th>hardship_loan_status</th><th>orig_projected_additional_accrued_interest</th><th>hardship_payoff_balance_amount</th><th>hardship_last_payment_amount</th><th>disbursement_method</th><th>debt_settlement_flag</th><th>debt_settlement_flag_date</th><th>settlement_status</th><th>settlement_date</th><th>settlement_amount</th><th>settlement_percentage</th><th>settlement_term</th></tr><tr><td>i64</td><td>str</td><td>f64</td><td>f64</td><td>f64</td><td>str</td><td>f64</td><td>f64</td><td>str</td><td>str</td><td>str</td><td>str</td><td>str</td><td>f64</td><td>str</td><td>str</td><td>str</td><td>str</td><td>str</td><td>str</td><td>str</td><td>str</td><td>str</td><td>str</td><td>f64</td><td>f64</td><td>str</td><td>f64</td><td>f64</td><td>f64</td><td>f64</td><td>f64</td><td>f64</td><td>f64</td><td>f64</td><td>f64</td><td>f64</td><td>&hellip;</td><td>f64</td><td>str</td><td>str</td><td>str</td><td>str</td><td>str</td><td>str</td><td>str</td><td>str</td><td>str</td><td>str</td><td>str</td><td>str</td><td>str</td><td>str</td><td>str</td><td>str</td><td>str</td><td>f64</td><td>f64</td><td>str</td><td>str</td><td>str</td><td>f64</td><td>f64</td><td>str</td><td>f64</td><td>f64</td><td>f64</td><td>str</td><td>str</td><td>str</td><td>str</td><td>str</td><td>f64</td><td>f64</td><td>f64</td></tr></thead><tbody><tr><td>null</td><td>null</td><td>null</td><td>null</td><td>null</td><td>null</td><td>null</td><td>null</td><td>null</td><td>null</td><td>null</td><td>null</td><td>null</td><td>null</td><td>null</td><td>null</td><td>null</td><td>null</td><td>null</td><td>null</td><td>null</td><td>null</td><td>null</td><td>null</td><td>null</td><td>null</td><td>null</td><td>null</td><td>null</td><td>null</td><td>null</td><td>null</td><td>null</td><td>null</td><td>null</td><td>null</td><td>null</td><td>&hellip;</td><td>null</td><td>null</td><td>null</td><td>null</td><td>null</td><td>null</td><td>null</td><td>null</td><td>null</td><td>null</td><td>null</td><td>null</td><td>null</td><td>null</td><td>null</td><td>null</td><td>null</td><td>null</td><td>null</td><td>null</td><td>null</td><td>null</td><td>null</td><td>null</td><td>null</td><td>null</td><td>null</td><td>null</td><td>null</td><td>null</td><td>null</td><td>null</td><td>null</td><td>null</td><td>null</td><td>null</td><td>null</td></tr><tr><td>null</td><td>null</td><td>null</td><td>null</td><td>null</td><td>null</td><td>null</td><td>null</td><td>null</td><td>null</td><td>null</td><td>null</td><td>null</td><td>null</td><td>null</td><td>null</td><td>null</td><td>null</td><td>null</td><td>null</td><td>null</td><td>null</td><td>null</td><td>null</td><td>null</td><td>null</td><td>null</td><td>null</td><td>null</td><td>null</td><td>null</td><td>null</td><td>null</td><td>null</td><td>null</td><td>null</td><td>null</td><td>&hellip;</td><td>null</td><td>null</td><td>null</td><td>null</td><td>null</td><td>null</td><td>null</td><td>null</td><td>null</td><td>null</td><td>null</td><td>null</td><td>null</td><td>null</td><td>null</td><td>null</td><td>null</td><td>null</td><td>null</td><td>null</td><td>null</td><td>null</td><td>null</td><td>null</td><td>null</td><td>null</td><td>null</td><td>null</td><td>null</td><td>null</td><td>null</td><td>null</td><td>null</td><td>null</td><td>null</td><td>null</td><td>null</td></tr><tr><td>null</td><td>null</td><td>null</td><td>null</td><td>null</td><td>null</td><td>null</td><td>null</td><td>null</td><td>null</td><td>null</td><td>null</td><td>null</td><td>null</td><td>null</td><td>null</td><td>null</td><td>null</td><td>null</td><td>null</td><td>null</td><td>null</td><td>null</td><td>null</td><td>null</td><td>null</td><td>null</td><td>null</td><td>null</td><td>null</td><td>null</td><td>null</td><td>null</td><td>null</td><td>null</td><td>null</td><td>null</td><td>&hellip;</td><td>null</td><td>null</td><td>null</td><td>null</td><td>null</td><td>null</td><td>null</td><td>null</td><td>null</td><td>null</td><td>null</td><td>null</td><td>null</td><td>null</td><td>null</td><td>null</td><td>null</td><td>null</td><td>null</td><td>null</td><td>null</td><td>null</td><td>null</td><td>null</td><td>null</td><td>null</td><td>null</td><td>null</td><td>null</td><td>null</td><td>null</td><td>null</td><td>null</td><td>null</td><td>null</td><td>null</td><td>null</td></tr><tr><td>null</td><td>null</td><td>null</td><td>null</td><td>null</td><td>null</td><td>null</td><td>null</td><td>null</td><td>null</td><td>null</td><td>null</td><td>null</td><td>null</td><td>null</td><td>null</td><td>null</td><td>null</td><td>null</td><td>null</td><td>null</td><td>null</td><td>null</td><td>null</td><td>null</td><td>null</td><td>null</td><td>null</td><td>null</td><td>null</td><td>null</td><td>null</td><td>null</td><td>null</td><td>null</td><td>null</td><td>null</td><td>&hellip;</td><td>null</td><td>null</td><td>null</td><td>null</td><td>null</td><td>null</td><td>null</td><td>null</td><td>null</td><td>null</td><td>null</td><td>null</td><td>null</td><td>null</td><td>null</td><td>null</td><td>null</td><td>null</td><td>null</td><td>null</td><td>null</td><td>null</td><td>null</td><td>null</td><td>null</td><td>null</td><td>null</td><td>null</td><td>null</td><td>null</td><td>null</td><td>null</td><td>null</td><td>null</td><td>null</td><td>null</td><td>null</td></tr></tbody></table></div>"
      ],
      "text/plain": [
       "shape: (4, 151)\n",
       "┌──────┬───────────┬───────────┬────────────┬───┬────────────┬────────────┬────────────┬───────────┐\n",
       "│ id   ┆ member_id ┆ loan_amnt ┆ funded_amn ┆ … ┆ settlement ┆ settlement ┆ settlement ┆ settlemen │\n",
       "│ ---  ┆ ---       ┆ ---       ┆ t          ┆   ┆ _date      ┆ _amount    ┆ _percentag ┆ t_term    │\n",
       "│ i64  ┆ str       ┆ f64       ┆ ---        ┆   ┆ ---        ┆ ---        ┆ e          ┆ ---       │\n",
       "│      ┆           ┆           ┆ f64        ┆   ┆ str        ┆ f64        ┆ ---        ┆ f64       │\n",
       "│      ┆           ┆           ┆            ┆   ┆            ┆            ┆ f64        ┆           │\n",
       "╞══════╪═══════════╪═══════════╪════════════╪═══╪════════════╪════════════╪════════════╪═══════════╡\n",
       "│ null ┆ null      ┆ null      ┆ null       ┆ … ┆ null       ┆ null       ┆ null       ┆ null      │\n",
       "│ null ┆ null      ┆ null      ┆ null       ┆ … ┆ null       ┆ null       ┆ null       ┆ null      │\n",
       "│ null ┆ null      ┆ null      ┆ null       ┆ … ┆ null       ┆ null       ┆ null       ┆ null      │\n",
       "│ null ┆ null      ┆ null      ┆ null       ┆ … ┆ null       ┆ null       ┆ null       ┆ null      │\n",
       "└──────┴───────────┴───────────┴────────────┴───┴────────────┴────────────┴────────────┴───────────┘"
      ]
     },
     "execution_count": 10,
     "metadata": {},
     "output_type": "execute_result"
    }
   ],
   "source": [
    "duplicated = accepted_df.filter(accepted_df.is_duplicated())\n",
    "print(f\"The number of duplicated values is: {duplicated.shape[0]}\")\n",
    "duplicated.head(4)"
   ]
  },
  {
   "cell_type": "markdown",
   "metadata": {},
   "source": [
    "In the case of the accepted dataframe, **all of the duplicated values represented actually blank lines** on the dataframe that **were also dropped**."
   ]
  },
  {
   "cell_type": "code",
   "execution_count": 11,
   "metadata": {},
   "outputs": [
    {
     "data": {
      "text/html": [
       "<div><style>\n",
       ".dataframe > thead > tr > th,\n",
       ".dataframe > tbody > tr > td {\n",
       "  text-align: right;\n",
       "  white-space: pre-wrap;\n",
       "}\n",
       "</style>\n",
       "<small>shape: (0, 151)</small><table border=\"1\" class=\"dataframe\"><thead><tr><th>id</th><th>member_id</th><th>loan_amnt</th><th>funded_amnt</th><th>funded_amnt_inv</th><th>term</th><th>int_rate</th><th>installment</th><th>grade</th><th>sub_grade</th><th>emp_title</th><th>emp_length</th><th>home_ownership</th><th>annual_inc</th><th>verification_status</th><th>issue_d</th><th>loan_status</th><th>pymnt_plan</th><th>url</th><th>desc</th><th>purpose</th><th>title</th><th>zip_code</th><th>addr_state</th><th>dti</th><th>delinq_2yrs</th><th>earliest_cr_line</th><th>fico_range_low</th><th>fico_range_high</th><th>inq_last_6mths</th><th>mths_since_last_delinq</th><th>mths_since_last_record</th><th>open_acc</th><th>pub_rec</th><th>revol_bal</th><th>revol_util</th><th>total_acc</th><th>&hellip;</th><th>total_il_high_credit_limit</th><th>revol_bal_joint</th><th>sec_app_fico_range_low</th><th>sec_app_fico_range_high</th><th>sec_app_earliest_cr_line</th><th>sec_app_inq_last_6mths</th><th>sec_app_mort_acc</th><th>sec_app_open_acc</th><th>sec_app_revol_util</th><th>sec_app_open_act_il</th><th>sec_app_num_rev_accts</th><th>sec_app_chargeoff_within_12_mths</th><th>sec_app_collections_12_mths_ex_med</th><th>sec_app_mths_since_last_major_derog</th><th>hardship_flag</th><th>hardship_type</th><th>hardship_reason</th><th>hardship_status</th><th>deferral_term</th><th>hardship_amount</th><th>hardship_start_date</th><th>hardship_end_date</th><th>payment_plan_start_date</th><th>hardship_length</th><th>hardship_dpd</th><th>hardship_loan_status</th><th>orig_projected_additional_accrued_interest</th><th>hardship_payoff_balance_amount</th><th>hardship_last_payment_amount</th><th>disbursement_method</th><th>debt_settlement_flag</th><th>debt_settlement_flag_date</th><th>settlement_status</th><th>settlement_date</th><th>settlement_amount</th><th>settlement_percentage</th><th>settlement_term</th></tr><tr><td>i64</td><td>str</td><td>f64</td><td>f64</td><td>f64</td><td>str</td><td>f64</td><td>f64</td><td>str</td><td>str</td><td>str</td><td>str</td><td>str</td><td>f64</td><td>str</td><td>str</td><td>str</td><td>str</td><td>str</td><td>str</td><td>str</td><td>str</td><td>str</td><td>str</td><td>f64</td><td>f64</td><td>str</td><td>f64</td><td>f64</td><td>f64</td><td>f64</td><td>f64</td><td>f64</td><td>f64</td><td>f64</td><td>f64</td><td>f64</td><td>&hellip;</td><td>f64</td><td>str</td><td>str</td><td>str</td><td>str</td><td>str</td><td>str</td><td>str</td><td>str</td><td>str</td><td>str</td><td>str</td><td>str</td><td>str</td><td>str</td><td>str</td><td>str</td><td>str</td><td>f64</td><td>f64</td><td>str</td><td>str</td><td>str</td><td>f64</td><td>f64</td><td>str</td><td>f64</td><td>f64</td><td>f64</td><td>str</td><td>str</td><td>str</td><td>str</td><td>str</td><td>f64</td><td>f64</td><td>f64</td></tr></thead><tbody></tbody></table></div>"
      ],
      "text/plain": [
       "shape: (0, 151)\n",
       "┌─────┬───────────┬───────────┬────────────┬───┬────────────┬────────────┬────────────┬────────────┐\n",
       "│ id  ┆ member_id ┆ loan_amnt ┆ funded_amn ┆ … ┆ settlement ┆ settlement ┆ settlement ┆ settlement │\n",
       "│ --- ┆ ---       ┆ ---       ┆ t          ┆   ┆ _date      ┆ _amount    ┆ _percentag ┆ _term      │\n",
       "│ i64 ┆ str       ┆ f64       ┆ ---        ┆   ┆ ---        ┆ ---        ┆ e          ┆ ---        │\n",
       "│     ┆           ┆           ┆ f64        ┆   ┆ str        ┆ f64        ┆ ---        ┆ f64        │\n",
       "│     ┆           ┆           ┆            ┆   ┆            ┆            ┆ f64        ┆            │\n",
       "╞═════╪═══════════╪═══════════╪════════════╪═══╪════════════╪════════════╪════════════╪════════════╡\n",
       "└─────┴───────────┴───────────┴────────────┴───┴────────────┴────────────┴────────────┴────────────┘"
      ]
     },
     "execution_count": 11,
     "metadata": {},
     "output_type": "execute_result"
    }
   ],
   "source": [
    "accepted_df_no_dupli = accepted_df.unique(keep='none')\n",
    "accepted_df_no_dupli.filter(accepted_df_no_dupli.is_duplicated())"
   ]
  },
  {
   "cell_type": "markdown",
   "metadata": {},
   "source": [
    "<h3 style=\"color:#484E6E\">Export Accepted Dataframe</h3>"
   ]
  },
  {
   "cell_type": "markdown",
   "metadata": {},
   "source": [
    "For the use on the 2nd and 3rd Objectives of this project (loan grade, loan subgrade and interest rate), the accepted dataframe will also be separated and exported."
   ]
  },
  {
   "cell_type": "code",
   "execution_count": 13,
   "metadata": {},
   "outputs": [],
   "source": [
    "train_size = 0.4\n",
    "val_test_size = 0.3\n",
    "\n",
    "#accepted_train, accepted_temp = train_test_split(accepted_df_no_dupli, test_size=1 - train_size, random_state=1)\n",
    "#accepted_validation, accepted_test = train_test_split(accepted_temp, test_size=0.5, random_state=1)"
   ]
  },
  {
   "cell_type": "code",
   "execution_count": 14,
   "metadata": {},
   "outputs": [],
   "source": [
    "#print(accepted_train.shape, accepted_test.shape, accepted_validation.shape)"
   ]
  },
  {
   "cell_type": "code",
   "execution_count": 15,
   "metadata": {},
   "outputs": [],
   "source": [
    "#accepted_train.write_csv(\"data/exported/accepted_train.csv\")\n",
    "#accepted_test.write_csv(\"data/exported/accepted_test.csv\")\n",
    "#accepted_validation.write_csv(\"data/exported/accepted_validation.csv\")"
   ]
  },
  {
   "cell_type": "markdown",
   "metadata": {},
   "source": [
    "Remove defined dataframes from memory"
   ]
  },
  {
   "cell_type": "code",
   "execution_count": 16,
   "metadata": {},
   "outputs": [],
   "source": [
    "#del accepted_train, accepted_test, accepted_validation\n",
    "#gc.collect()"
   ]
  },
  {
   "cell_type": "markdown",
   "metadata": {},
   "source": [
    "As mentioned above, **we will keep only the features that have correspondent in the rejected dataframe**."
   ]
  },
  {
   "cell_type": "code",
   "execution_count": 12,
   "metadata": {},
   "outputs": [
    {
     "data": {
      "text/html": [
       "<div><style>\n",
       ".dataframe > thead > tr > th,\n",
       ".dataframe > tbody > tr > td {\n",
       "  text-align: right;\n",
       "  white-space: pre-wrap;\n",
       "}\n",
       "</style>\n",
       "<small>shape: (5, 9)</small><table border=\"1\" class=\"dataframe\"><thead><tr><th>loan_amnt</th><th>title</th><th>fico_range_low</th><th>fico_range_high</th><th>dti</th><th>zip_code</th><th>addr_state</th><th>emp_length</th><th>policy_code</th></tr><tr><td>f64</td><td>str</td><td>f64</td><td>f64</td><td>f64</td><td>str</td><td>str</td><td>str</td><td>f64</td></tr></thead><tbody><tr><td>3600.0</td><td>&quot;Debt consolida…</td><td>675.0</td><td>679.0</td><td>5.91</td><td>&quot;190xx&quot;</td><td>&quot;PA&quot;</td><td>&quot;10+ years&quot;</td><td>1.0</td></tr><tr><td>24700.0</td><td>&quot;Business&quot;</td><td>715.0</td><td>719.0</td><td>16.06</td><td>&quot;577xx&quot;</td><td>&quot;SD&quot;</td><td>&quot;10+ years&quot;</td><td>1.0</td></tr><tr><td>20000.0</td><td>null</td><td>695.0</td><td>699.0</td><td>10.78</td><td>&quot;605xx&quot;</td><td>&quot;IL&quot;</td><td>&quot;10+ years&quot;</td><td>1.0</td></tr><tr><td>35000.0</td><td>&quot;Debt consolida…</td><td>785.0</td><td>789.0</td><td>17.06</td><td>&quot;076xx&quot;</td><td>&quot;NJ&quot;</td><td>&quot;10+ years&quot;</td><td>1.0</td></tr><tr><td>10400.0</td><td>&quot;Major purchase…</td><td>695.0</td><td>699.0</td><td>25.37</td><td>&quot;174xx&quot;</td><td>&quot;PA&quot;</td><td>&quot;3 years&quot;</td><td>1.0</td></tr></tbody></table></div>"
      ],
      "text/plain": [
       "shape: (5, 9)\n",
       "┌───────────┬───────────┬───────────┬───────────┬───┬──────────┬───────────┬───────────┬───────────┐\n",
       "│ loan_amnt ┆ title     ┆ fico_rang ┆ fico_rang ┆ … ┆ zip_code ┆ addr_stat ┆ emp_lengt ┆ policy_co │\n",
       "│ ---       ┆ ---       ┆ e_low     ┆ e_high    ┆   ┆ ---      ┆ e         ┆ h         ┆ de        │\n",
       "│ f64       ┆ str       ┆ ---       ┆ ---       ┆   ┆ str      ┆ ---       ┆ ---       ┆ ---       │\n",
       "│           ┆           ┆ f64       ┆ f64       ┆   ┆          ┆ str       ┆ str       ┆ f64       │\n",
       "╞═══════════╪═══════════╪═══════════╪═══════════╪═══╪══════════╪═══════════╪═══════════╪═══════════╡\n",
       "│ 3600.0    ┆ Debt cons ┆ 675.0     ┆ 679.0     ┆ … ┆ 190xx    ┆ PA        ┆ 10+ years ┆ 1.0       │\n",
       "│           ┆ olidation ┆           ┆           ┆   ┆          ┆           ┆           ┆           │\n",
       "│ 24700.0   ┆ Business  ┆ 715.0     ┆ 719.0     ┆ … ┆ 577xx    ┆ SD        ┆ 10+ years ┆ 1.0       │\n",
       "│ 20000.0   ┆ null      ┆ 695.0     ┆ 699.0     ┆ … ┆ 605xx    ┆ IL        ┆ 10+ years ┆ 1.0       │\n",
       "│ 35000.0   ┆ Debt cons ┆ 785.0     ┆ 789.0     ┆ … ┆ 076xx    ┆ NJ        ┆ 10+ years ┆ 1.0       │\n",
       "│           ┆ olidation ┆           ┆           ┆   ┆          ┆           ┆           ┆           │\n",
       "│ 10400.0   ┆ Major     ┆ 695.0     ┆ 699.0     ┆ … ┆ 174xx    ┆ PA        ┆ 3 years   ┆ 1.0       │\n",
       "│           ┆ purchase  ┆           ┆           ┆   ┆          ┆           ┆           ┆           │\n",
       "└───────────┴───────────┴───────────┴───────────┴───┴──────────┴───────────┴───────────┴───────────┘"
      ]
     },
     "execution_count": 12,
     "metadata": {},
     "output_type": "execute_result"
    }
   ],
   "source": [
    "accepted_df_clean = accepted_df_no_dupli[[\"loan_amnt\", \"title\", \"fico_range_low\", \"fico_range_high\", \"dti\", \"zip_code\", \"addr_state\", \"emp_length\", \"policy_code\"]]\n",
    "accepted_df_clean.head()"
   ]
  },
  {
   "cell_type": "markdown",
   "metadata": {},
   "source": [
    "The Application Date column in rejected has no correspondent in the accepted dataframe, it will be dropped!"
   ]
  },
  {
   "cell_type": "code",
   "execution_count": 13,
   "metadata": {},
   "outputs": [
    {
     "data": {
      "text/html": [
       "<div><style>\n",
       ".dataframe > thead > tr > th,\n",
       ".dataframe > tbody > tr > td {\n",
       "  text-align: right;\n",
       "  white-space: pre-wrap;\n",
       "}\n",
       "</style>\n",
       "<small>shape: (5, 9)</small><table border=\"1\" class=\"dataframe\"><thead><tr><th>Amount_Requested</th><th>Loan_Title</th><th>fico_range_low</th><th>fico_range_high</th><th>Debt-To-Income_Ratio</th><th>Zip_Code</th><th>State</th><th>Employment_Length</th><th>Policy_Code</th></tr><tr><td>f64</td><td>str</td><td>f64</td><td>f64</td><td>f64</td><td>str</td><td>str</td><td>str</td><td>f64</td></tr></thead><tbody><tr><td>3600.0</td><td>&quot;Debt consolida…</td><td>675.0</td><td>679.0</td><td>5.91</td><td>&quot;190xx&quot;</td><td>&quot;PA&quot;</td><td>&quot;10+ years&quot;</td><td>1.0</td></tr><tr><td>24700.0</td><td>&quot;Business&quot;</td><td>715.0</td><td>719.0</td><td>16.06</td><td>&quot;577xx&quot;</td><td>&quot;SD&quot;</td><td>&quot;10+ years&quot;</td><td>1.0</td></tr><tr><td>20000.0</td><td>null</td><td>695.0</td><td>699.0</td><td>10.78</td><td>&quot;605xx&quot;</td><td>&quot;IL&quot;</td><td>&quot;10+ years&quot;</td><td>1.0</td></tr><tr><td>35000.0</td><td>&quot;Debt consolida…</td><td>785.0</td><td>789.0</td><td>17.06</td><td>&quot;076xx&quot;</td><td>&quot;NJ&quot;</td><td>&quot;10+ years&quot;</td><td>1.0</td></tr><tr><td>10400.0</td><td>&quot;Major purchase…</td><td>695.0</td><td>699.0</td><td>25.37</td><td>&quot;174xx&quot;</td><td>&quot;PA&quot;</td><td>&quot;3 years&quot;</td><td>1.0</td></tr></tbody></table></div>"
      ],
      "text/plain": [
       "shape: (5, 9)\n",
       "┌────────────┬────────────┬────────────┬────────────┬───┬──────────┬───────┬───────────┬───────────┐\n",
       "│ Amount_Req ┆ Loan_Title ┆ fico_range ┆ fico_range ┆ … ┆ Zip_Code ┆ State ┆ Employmen ┆ Policy_Co │\n",
       "│ uested     ┆ ---        ┆ _low       ┆ _high      ┆   ┆ ---      ┆ ---   ┆ t_Length  ┆ de        │\n",
       "│ ---        ┆ str        ┆ ---        ┆ ---        ┆   ┆ str      ┆ str   ┆ ---       ┆ ---       │\n",
       "│ f64        ┆            ┆ f64        ┆ f64        ┆   ┆          ┆       ┆ str       ┆ f64       │\n",
       "╞════════════╪════════════╪════════════╪════════════╪═══╪══════════╪═══════╪═══════════╪═══════════╡\n",
       "│ 3600.0     ┆ Debt conso ┆ 675.0      ┆ 679.0      ┆ … ┆ 190xx    ┆ PA    ┆ 10+ years ┆ 1.0       │\n",
       "│            ┆ lidation   ┆            ┆            ┆   ┆          ┆       ┆           ┆           │\n",
       "│ 24700.0    ┆ Business   ┆ 715.0      ┆ 719.0      ┆ … ┆ 577xx    ┆ SD    ┆ 10+ years ┆ 1.0       │\n",
       "│ 20000.0    ┆ null       ┆ 695.0      ┆ 699.0      ┆ … ┆ 605xx    ┆ IL    ┆ 10+ years ┆ 1.0       │\n",
       "│ 35000.0    ┆ Debt conso ┆ 785.0      ┆ 789.0      ┆ … ┆ 076xx    ┆ NJ    ┆ 10+ years ┆ 1.0       │\n",
       "│            ┆ lidation   ┆            ┆            ┆   ┆          ┆       ┆           ┆           │\n",
       "│ 10400.0    ┆ Major      ┆ 695.0      ┆ 699.0      ┆ … ┆ 174xx    ┆ PA    ┆ 3 years   ┆ 1.0       │\n",
       "│            ┆ purchase   ┆            ┆            ┆   ┆          ┆       ┆           ┆           │\n",
       "└────────────┴────────────┴────────────┴────────────┴───┴──────────┴───────┴───────────┴───────────┘"
      ]
     },
     "execution_count": 13,
     "metadata": {},
     "output_type": "execute_result"
    }
   ],
   "source": [
    "dict_cols = {\n",
    "    \"loan_amnt\": \"Amount_Requested\",\n",
    "    \"title\": \"Loan_Title\",\n",
    "    \"dti\": \"Debt-To-Income_Ratio\",\n",
    "    \"zip_code\": \"Zip_Code\",\n",
    "    \"addr_state\": \"State\",\n",
    "    \"emp_length\": \"Employment_Length\",\n",
    "    \"policy_code\": \"Policy_Code\",\n",
    "}\n",
    "accepted_df_clean = accepted_df_clean.rename(dict_cols)\n",
    "accepted_df_clean.head()"
   ]
  },
  {
   "cell_type": "code",
   "execution_count": 14,
   "metadata": {},
   "outputs": [
    {
     "data": {
      "text/plain": [
       "0"
      ]
     },
     "execution_count": 14,
     "metadata": {},
     "output_type": "execute_result"
    }
   ],
   "source": [
    "del accepted_df, accepted_df_no_dupli\n",
    "gc.collect()"
   ]
  },
  {
   "cell_type": "markdown",
   "metadata": {},
   "source": [
    "The FICO scores presented in accepted are high and low. We will translate that into Risk_Score with an average between the two values.\n",
    "\n",
    "Besides, we also create the Application Result as \"Accepted\" for this dataframe."
   ]
  },
  {
   "cell_type": "code",
   "execution_count": 15,
   "metadata": {},
   "outputs": [
    {
     "data": {
      "text/html": [
       "<div><style>\n",
       ".dataframe > thead > tr > th,\n",
       ".dataframe > tbody > tr > td {\n",
       "  text-align: right;\n",
       "  white-space: pre-wrap;\n",
       "}\n",
       "</style>\n",
       "<small>shape: (5, 8)</small><table border=\"1\" class=\"dataframe\"><thead><tr><th>Amount_Requested</th><th>Loan_Title</th><th>Risk_Score</th><th>Debt-To-Income_Ratio</th><th>Zip_Code</th><th>State</th><th>Employment_Length</th><th>Policy_Code</th></tr><tr><td>f64</td><td>str</td><td>f64</td><td>f64</td><td>str</td><td>str</td><td>str</td><td>f64</td></tr></thead><tbody><tr><td>3600.0</td><td>&quot;Debt consolida…</td><td>677.0</td><td>5.91</td><td>&quot;190xx&quot;</td><td>&quot;PA&quot;</td><td>&quot;10+ years&quot;</td><td>1.0</td></tr><tr><td>24700.0</td><td>&quot;Business&quot;</td><td>717.0</td><td>16.06</td><td>&quot;577xx&quot;</td><td>&quot;SD&quot;</td><td>&quot;10+ years&quot;</td><td>1.0</td></tr><tr><td>20000.0</td><td>null</td><td>697.0</td><td>10.78</td><td>&quot;605xx&quot;</td><td>&quot;IL&quot;</td><td>&quot;10+ years&quot;</td><td>1.0</td></tr><tr><td>35000.0</td><td>&quot;Debt consolida…</td><td>787.0</td><td>17.06</td><td>&quot;076xx&quot;</td><td>&quot;NJ&quot;</td><td>&quot;10+ years&quot;</td><td>1.0</td></tr><tr><td>10400.0</td><td>&quot;Major purchase…</td><td>697.0</td><td>25.37</td><td>&quot;174xx&quot;</td><td>&quot;PA&quot;</td><td>&quot;3 years&quot;</td><td>1.0</td></tr></tbody></table></div>"
      ],
      "text/plain": [
       "shape: (5, 8)\n",
       "┌─────────────┬─────────────┬────────────┬────────────┬──────────┬───────┬────────────┬────────────┐\n",
       "│ Amount_Requ ┆ Loan_Title  ┆ Risk_Score ┆ Debt-To-In ┆ Zip_Code ┆ State ┆ Employment ┆ Policy_Cod │\n",
       "│ ested       ┆ ---         ┆ ---        ┆ come_Ratio ┆ ---      ┆ ---   ┆ _Length    ┆ e          │\n",
       "│ ---         ┆ str         ┆ f64        ┆ ---        ┆ str      ┆ str   ┆ ---        ┆ ---        │\n",
       "│ f64         ┆             ┆            ┆ f64        ┆          ┆       ┆ str        ┆ f64        │\n",
       "╞═════════════╪═════════════╪════════════╪════════════╪══════════╪═══════╪════════════╪════════════╡\n",
       "│ 3600.0      ┆ Debt consol ┆ 677.0      ┆ 5.91       ┆ 190xx    ┆ PA    ┆ 10+ years  ┆ 1.0        │\n",
       "│             ┆ idation     ┆            ┆            ┆          ┆       ┆            ┆            │\n",
       "│ 24700.0     ┆ Business    ┆ 717.0      ┆ 16.06      ┆ 577xx    ┆ SD    ┆ 10+ years  ┆ 1.0        │\n",
       "│ 20000.0     ┆ null        ┆ 697.0      ┆ 10.78      ┆ 605xx    ┆ IL    ┆ 10+ years  ┆ 1.0        │\n",
       "│ 35000.0     ┆ Debt consol ┆ 787.0      ┆ 17.06      ┆ 076xx    ┆ NJ    ┆ 10+ years  ┆ 1.0        │\n",
       "│             ┆ idation     ┆            ┆            ┆          ┆       ┆            ┆            │\n",
       "│ 10400.0     ┆ Major       ┆ 697.0      ┆ 25.37      ┆ 174xx    ┆ PA    ┆ 3 years    ┆ 1.0        │\n",
       "│             ┆ purchase    ┆            ┆            ┆          ┆       ┆            ┆            │\n",
       "└─────────────┴─────────────┴────────────┴────────────┴──────────┴───────┴────────────┴────────────┘"
      ]
     },
     "execution_count": 15,
     "metadata": {},
     "output_type": "execute_result"
    }
   ],
   "source": [
    "accepted_df_clean = accepted_df_clean.with_columns(Risk_Score = accepted_df_clean[[\"fico_range_high\", \"fico_range_low\"]].mean(axis=1))\n",
    "\n",
    "accepted_df_clean = accepted_df_clean.select(\n",
    "                                            ['Amount_Requested',\n",
    "                                            'Loan_Title',\n",
    "                                            'Risk_Score',\n",
    "                                            'Debt-To-Income_Ratio',\n",
    "                                            'Zip_Code',\n",
    "                                            'State',\n",
    "                                            'Employment_Length',\n",
    "                                            'Policy_Code']\n",
    "                                            )\n",
    "\n",
    "accepted_df_clean.head()"
   ]
  },
  {
   "cell_type": "code",
   "execution_count": 16,
   "metadata": {},
   "outputs": [
    {
     "data": {
      "text/html": [
       "<div><style>\n",
       ".dataframe > thead > tr > th,\n",
       ".dataframe > tbody > tr > td {\n",
       "  text-align: right;\n",
       "  white-space: pre-wrap;\n",
       "}\n",
       "</style>\n",
       "<small>shape: (5, 9)</small><table border=\"1\" class=\"dataframe\"><thead><tr><th>Amount_Requested</th><th>Loan_Title</th><th>Risk_Score</th><th>Debt-To-Income_Ratio</th><th>Zip_Code</th><th>State</th><th>Employment_Length</th><th>Policy_Code</th><th>Application_Result</th></tr><tr><td>f64</td><td>str</td><td>f64</td><td>f64</td><td>str</td><td>str</td><td>str</td><td>f64</td><td>str</td></tr></thead><tbody><tr><td>3600.0</td><td>&quot;Debt consolida…</td><td>677.0</td><td>5.91</td><td>&quot;190xx&quot;</td><td>&quot;PA&quot;</td><td>&quot;10+ years&quot;</td><td>1.0</td><td>&quot;Accepted&quot;</td></tr><tr><td>24700.0</td><td>&quot;Business&quot;</td><td>717.0</td><td>16.06</td><td>&quot;577xx&quot;</td><td>&quot;SD&quot;</td><td>&quot;10+ years&quot;</td><td>1.0</td><td>&quot;Accepted&quot;</td></tr><tr><td>20000.0</td><td>null</td><td>697.0</td><td>10.78</td><td>&quot;605xx&quot;</td><td>&quot;IL&quot;</td><td>&quot;10+ years&quot;</td><td>1.0</td><td>&quot;Accepted&quot;</td></tr><tr><td>35000.0</td><td>&quot;Debt consolida…</td><td>787.0</td><td>17.06</td><td>&quot;076xx&quot;</td><td>&quot;NJ&quot;</td><td>&quot;10+ years&quot;</td><td>1.0</td><td>&quot;Accepted&quot;</td></tr><tr><td>10400.0</td><td>&quot;Major purchase…</td><td>697.0</td><td>25.37</td><td>&quot;174xx&quot;</td><td>&quot;PA&quot;</td><td>&quot;3 years&quot;</td><td>1.0</td><td>&quot;Accepted&quot;</td></tr></tbody></table></div>"
      ],
      "text/plain": [
       "shape: (5, 9)\n",
       "┌────────────┬────────────┬────────────┬───────────┬───┬───────┬───────────┬───────────┬───────────┐\n",
       "│ Amount_Req ┆ Loan_Title ┆ Risk_Score ┆ Debt-To-I ┆ … ┆ State ┆ Employmen ┆ Policy_Co ┆ Applicati │\n",
       "│ uested     ┆ ---        ┆ ---        ┆ ncome_Rat ┆   ┆ ---   ┆ t_Length  ┆ de        ┆ on_Result │\n",
       "│ ---        ┆ str        ┆ f64        ┆ io        ┆   ┆ str   ┆ ---       ┆ ---       ┆ ---       │\n",
       "│ f64        ┆            ┆            ┆ ---       ┆   ┆       ┆ str       ┆ f64       ┆ str       │\n",
       "│            ┆            ┆            ┆ f64       ┆   ┆       ┆           ┆           ┆           │\n",
       "╞════════════╪════════════╪════════════╪═══════════╪═══╪═══════╪═══════════╪═══════════╪═══════════╡\n",
       "│ 3600.0     ┆ Debt conso ┆ 677.0      ┆ 5.91      ┆ … ┆ PA    ┆ 10+ years ┆ 1.0       ┆ Accepted  │\n",
       "│            ┆ lidation   ┆            ┆           ┆   ┆       ┆           ┆           ┆           │\n",
       "│ 24700.0    ┆ Business   ┆ 717.0      ┆ 16.06     ┆ … ┆ SD    ┆ 10+ years ┆ 1.0       ┆ Accepted  │\n",
       "│ 20000.0    ┆ null       ┆ 697.0      ┆ 10.78     ┆ … ┆ IL    ┆ 10+ years ┆ 1.0       ┆ Accepted  │\n",
       "│ 35000.0    ┆ Debt conso ┆ 787.0      ┆ 17.06     ┆ … ┆ NJ    ┆ 10+ years ┆ 1.0       ┆ Accepted  │\n",
       "│            ┆ lidation   ┆            ┆           ┆   ┆       ┆           ┆           ┆           │\n",
       "│ 10400.0    ┆ Major      ┆ 697.0      ┆ 25.37     ┆ … ┆ PA    ┆ 3 years   ┆ 1.0       ┆ Accepted  │\n",
       "│            ┆ purchase   ┆            ┆           ┆   ┆       ┆           ┆           ┆           │\n",
       "└────────────┴────────────┴────────────┴───────────┴───┴───────┴───────────┴───────────┴───────────┘"
      ]
     },
     "execution_count": 16,
     "metadata": {},
     "output_type": "execute_result"
    }
   ],
   "source": [
    "accepted_df_clean = accepted_df_clean.with_columns(Application_Result = pl.lit(\"Accepted\"))\n",
    "accepted_df_clean.head()"
   ]
  },
  {
   "cell_type": "markdown",
   "metadata": {},
   "source": [
    "<h2 style=\"color:#484E6E\">Merging Dataframes</h2>"
   ]
  },
  {
   "cell_type": "code",
   "execution_count": 17,
   "metadata": {},
   "outputs": [
    {
     "data": {
      "text/html": [
       "<div><style>\n",
       ".dataframe > thead > tr > th,\n",
       ".dataframe > tbody > tr > td {\n",
       "  text-align: right;\n",
       "  white-space: pre-wrap;\n",
       "}\n",
       "</style>\n",
       "<small>shape: (5, 9)</small><table border=\"1\" class=\"dataframe\"><thead><tr><th>Amount_Requested</th><th>Loan_Title</th><th>Risk_Score</th><th>Debt-To-Income_Ratio</th><th>Zip_Code</th><th>State</th><th>Employment_Length</th><th>Policy_Code</th><th>Application_Result</th></tr><tr><td>f64</td><td>str</td><td>f64</td><td>f64</td><td>str</td><td>str</td><td>str</td><td>f64</td><td>str</td></tr></thead><tbody><tr><td>1000.0</td><td>&quot;Wedding Covere…</td><td>693.0</td><td>10.0</td><td>&quot;481xx&quot;</td><td>&quot;NM&quot;</td><td>&quot;4 years&quot;</td><td>0.0</td><td>&quot;Rejected&quot;</td></tr><tr><td>1000.0</td><td>&quot;Consolidating …</td><td>703.0</td><td>10.0</td><td>&quot;010xx&quot;</td><td>&quot;MA&quot;</td><td>&quot;&lt; 1 year&quot;</td><td>0.0</td><td>&quot;Rejected&quot;</td></tr><tr><td>11000.0</td><td>&quot;Want to consol…</td><td>715.0</td><td>10.0</td><td>&quot;212xx&quot;</td><td>&quot;MD&quot;</td><td>&quot;1 year&quot;</td><td>0.0</td><td>&quot;Rejected&quot;</td></tr><tr><td>6000.0</td><td>&quot;waksman&quot;</td><td>698.0</td><td>38.64</td><td>&quot;017xx&quot;</td><td>&quot;MA&quot;</td><td>&quot;&lt; 1 year&quot;</td><td>0.0</td><td>&quot;Rejected&quot;</td></tr><tr><td>1500.0</td><td>&quot;mdrigo&quot;</td><td>509.0</td><td>9.43</td><td>&quot;209xx&quot;</td><td>&quot;MD&quot;</td><td>&quot;&lt; 1 year&quot;</td><td>0.0</td><td>&quot;Rejected&quot;</td></tr></tbody></table></div>"
      ],
      "text/plain": [
       "shape: (5, 9)\n",
       "┌────────────┬────────────┬────────────┬───────────┬───┬───────┬───────────┬───────────┬───────────┐\n",
       "│ Amount_Req ┆ Loan_Title ┆ Risk_Score ┆ Debt-To-I ┆ … ┆ State ┆ Employmen ┆ Policy_Co ┆ Applicati │\n",
       "│ uested     ┆ ---        ┆ ---        ┆ ncome_Rat ┆   ┆ ---   ┆ t_Length  ┆ de        ┆ on_Result │\n",
       "│ ---        ┆ str        ┆ f64        ┆ io        ┆   ┆ str   ┆ ---       ┆ ---       ┆ ---       │\n",
       "│ f64        ┆            ┆            ┆ ---       ┆   ┆       ┆ str       ┆ f64       ┆ str       │\n",
       "│            ┆            ┆            ┆ f64       ┆   ┆       ┆           ┆           ┆           │\n",
       "╞════════════╪════════════╪════════════╪═══════════╪═══╪═══════╪═══════════╪═══════════╪═══════════╡\n",
       "│ 1000.0     ┆ Wedding    ┆ 693.0      ┆ 10.0      ┆ … ┆ NM    ┆ 4 years   ┆ 0.0       ┆ Rejected  │\n",
       "│            ┆ Covered    ┆            ┆           ┆   ┆       ┆           ┆           ┆           │\n",
       "│            ┆ but No     ┆            ┆           ┆   ┆       ┆           ┆           ┆           │\n",
       "│            ┆ Honeymoon  ┆            ┆           ┆   ┆       ┆           ┆           ┆           │\n",
       "│ 1000.0     ┆ Consolidat ┆ 703.0      ┆ 10.0      ┆ … ┆ MA    ┆ < 1 year  ┆ 0.0       ┆ Rejected  │\n",
       "│            ┆ ing Debt   ┆            ┆           ┆   ┆       ┆           ┆           ┆           │\n",
       "│ 11000.0    ┆ Want to    ┆ 715.0      ┆ 10.0      ┆ … ┆ MD    ┆ 1 year    ┆ 0.0       ┆ Rejected  │\n",
       "│            ┆ consolidat ┆            ┆           ┆   ┆       ┆           ┆           ┆           │\n",
       "│            ┆ e my debt  ┆            ┆           ┆   ┆       ┆           ┆           ┆           │\n",
       "│ 6000.0     ┆ waksman    ┆ 698.0      ┆ 38.64     ┆ … ┆ MA    ┆ < 1 year  ┆ 0.0       ┆ Rejected  │\n",
       "│ 1500.0     ┆ mdrigo     ┆ 509.0      ┆ 9.43      ┆ … ┆ MD    ┆ < 1 year  ┆ 0.0       ┆ Rejected  │\n",
       "└────────────┴────────────┴────────────┴───────────┴───┴───────┴───────────┴───────────┴───────────┘"
      ]
     },
     "execution_count": 17,
     "metadata": {},
     "output_type": "execute_result"
    }
   ],
   "source": [
    "rejected_df_no_dupli = rejected_df_no_dupli.with_columns(Application_Result = pl.lit(\"Rejected\"))\n",
    "rejected_df_no_dupli = rejected_df_no_dupli.drop(\"Application Date\")\n",
    "rejected_df_no_dupli.head()"
   ]
  },
  {
   "cell_type": "code",
   "execution_count": 18,
   "metadata": {},
   "outputs": [
    {
     "name": "stdout",
     "output_type": "stream",
     "text": [
      "shape: (5, 9)\n",
      "┌────────────┬────────────┬────────────┬───────────┬───┬───────┬───────────┬───────────┬───────────┐\n",
      "│ Amount_Req ┆ Loan_Title ┆ Risk_Score ┆ Debt-To-I ┆ … ┆ State ┆ Employmen ┆ Policy_Co ┆ Applicati │\n",
      "│ uested     ┆ ---        ┆ ---        ┆ ncome_Rat ┆   ┆ ---   ┆ t_Length  ┆ de        ┆ on_Result │\n",
      "│ ---        ┆ str        ┆ f64        ┆ io        ┆   ┆ str   ┆ ---       ┆ ---       ┆ ---       │\n",
      "│ f64        ┆            ┆            ┆ ---       ┆   ┆       ┆ str       ┆ f64       ┆ str       │\n",
      "│            ┆            ┆            ┆ f64       ┆   ┆       ┆           ┆           ┆           │\n",
      "╞════════════╪════════════╪════════════╪═══════════╪═══╪═══════╪═══════════╪═══════════╪═══════════╡\n",
      "│ 3600.0     ┆ Debt conso ┆ 677.0      ┆ 5.91      ┆ … ┆ PA    ┆ 10+ years ┆ 1.0       ┆ Accepted  │\n",
      "│            ┆ lidation   ┆            ┆           ┆   ┆       ┆           ┆           ┆           │\n",
      "│ 24700.0    ┆ Business   ┆ 717.0      ┆ 16.06     ┆ … ┆ SD    ┆ 10+ years ┆ 1.0       ┆ Accepted  │\n",
      "│ 20000.0    ┆ null       ┆ 697.0      ┆ 10.78     ┆ … ┆ IL    ┆ 10+ years ┆ 1.0       ┆ Accepted  │\n",
      "│ 35000.0    ┆ Debt conso ┆ 787.0      ┆ 17.06     ┆ … ┆ NJ    ┆ 10+ years ┆ 1.0       ┆ Accepted  │\n",
      "│            ┆ lidation   ┆            ┆           ┆   ┆       ┆           ┆           ┆           │\n",
      "│ 10400.0    ┆ Major      ┆ 697.0      ┆ 25.37     ┆ … ┆ PA    ┆ 3 years   ┆ 1.0       ┆ Accepted  │\n",
      "│            ┆ purchase   ┆            ┆           ┆   ┆       ┆           ┆           ┆           │\n",
      "└────────────┴────────────┴────────────┴───────────┴───┴───────┴───────────┴───────────┴───────────┘\n",
      "shape: (5, 9)\n",
      "┌────────────┬────────────┬────────────┬───────────┬───┬───────┬───────────┬───────────┬───────────┐\n",
      "│ Amount_Req ┆ Loan_Title ┆ Risk_Score ┆ Debt-To-I ┆ … ┆ State ┆ Employmen ┆ Policy_Co ┆ Applicati │\n",
      "│ uested     ┆ ---        ┆ ---        ┆ ncome_Rat ┆   ┆ ---   ┆ t_Length  ┆ de        ┆ on_Result │\n",
      "│ ---        ┆ str        ┆ f64        ┆ io        ┆   ┆ str   ┆ ---       ┆ ---       ┆ ---       │\n",
      "│ f64        ┆            ┆            ┆ ---       ┆   ┆       ┆ str       ┆ f64       ┆ str       │\n",
      "│            ┆            ┆            ┆ f64       ┆   ┆       ┆           ┆           ┆           │\n",
      "╞════════════╪════════════╪════════════╪═══════════╪═══╪═══════╪═══════════╪═══════════╪═══════════╡\n",
      "│ 10000.0    ┆ Debt conso ┆ 590.0      ┆ 41.26     ┆ … ┆ OH    ┆ < 1 year  ┆ 0.0       ┆ Rejected  │\n",
      "│            ┆ lidation   ┆            ┆           ┆   ┆       ┆           ┆           ┆           │\n",
      "│ 10000.0    ┆ moving     ┆ null       ┆ 1.48      ┆ … ┆ MD    ┆ 5 years   ┆ 0.0       ┆ Rejected  │\n",
      "│ 1200.0     ┆ Other      ┆ 686.0      ┆ 10.26     ┆ … ┆ CA    ┆ < 1 year  ┆ 0.0       ┆ Rejected  │\n",
      "│ 25000.0    ┆ debt_conso ┆ null       ┆ 17.71     ┆ … ┆ NM    ┆ < 1 year  ┆ 0.0       ┆ Rejected  │\n",
      "│            ┆ lidation   ┆            ┆           ┆   ┆       ┆           ┆           ┆           │\n",
      "│ 15000.0    ┆ Business   ┆ 684.0      ┆ 10.58     ┆ … ┆ NY    ┆ < 1 year  ┆ 0.0       ┆ Rejected  │\n",
      "└────────────┴────────────┴────────────┴───────────┴───┴───────┴───────────┴───────────┴───────────┘\n"
     ]
    }
   ],
   "source": [
    "full_df = pl.concat([accepted_df_clean, rejected_df_no_dupli])\n",
    "print(full_df.head())\n",
    "print(full_df.tail())"
   ]
  },
  {
   "cell_type": "code",
   "execution_count": 19,
   "metadata": {},
   "outputs": [
    {
     "data": {
      "text/plain": [
       "0"
      ]
     },
     "execution_count": 19,
     "metadata": {},
     "output_type": "execute_result"
    }
   ],
   "source": [
    "del accepted_df_clean, rejected_df_no_dupli\n",
    "gc.collect()"
   ]
  },
  {
   "cell_type": "code",
   "execution_count": 26,
   "metadata": {},
   "outputs": [
    {
     "data": {
      "text/html": [
       "<div><style>\n",
       ".dataframe > thead > tr > th,\n",
       ".dataframe > tbody > tr > td {\n",
       "  text-align: right;\n",
       "  white-space: pre-wrap;\n",
       "}\n",
       "</style>\n",
       "<small>shape: (2, 3)</small><table border=\"1\" class=\"dataframe\"><thead><tr><th>Application_Result</th><th>counts</th><th>percent</th></tr><tr><td>str</td><td>u32</td><td>f64</td></tr></thead><tbody><tr><td>&quot;Accepted&quot;</td><td>2260668</td><td>7.63</td></tr><tr><td>&quot;Rejected&quot;</td><td>27349253</td><td>92.37</td></tr></tbody></table></div>"
      ],
      "text/plain": [
       "shape: (2, 3)\n",
       "┌────────────────────┬──────────┬─────────┐\n",
       "│ Application_Result ┆ counts   ┆ percent │\n",
       "│ ---                ┆ ---      ┆ ---     │\n",
       "│ str                ┆ u32      ┆ f64     │\n",
       "╞════════════════════╪══════════╪═════════╡\n",
       "│ Accepted           ┆ 2260668  ┆ 7.63    │\n",
       "│ Rejected           ┆ 27349253 ┆ 92.37   │\n",
       "└────────────────────┴──────────┴─────────┘"
      ]
     },
     "execution_count": 26,
     "metadata": {},
     "output_type": "execute_result"
    }
   ],
   "source": [
    "full_df[\"Application_Result\"].value_counts().select(\n",
    "    pl.col('Application_Result'), \n",
    "    pl.col('counts'),\n",
    "    (pl.col('counts')/pl.col('counts').sum()*100).round(2).alias('percent')\n",
    ")"
   ]
  },
  {
   "cell_type": "markdown",
   "metadata": {},
   "source": [
    "This Dataset is very imbalnced (92% of rejected applications). There was a try to split the data with a stratified method, but due to memory alocation it did not work. As we will go through the next notebook, we will see that similar proportions were obtained in this process anyways."
   ]
  },
  {
   "cell_type": "markdown",
   "metadata": {},
   "source": [
    "<h2 style=\"color:#484E6E\">Export Merged Dataframe</h2>"
   ]
  },
  {
   "cell_type": "code",
   "execution_count": null,
   "metadata": {},
   "outputs": [],
   "source": []
  },
  {
   "cell_type": "markdown",
   "metadata": {},
   "source": [
    "Let's separate our train, test and validation sets."
   ]
  },
  {
   "cell_type": "code",
   "execution_count": 1,
   "id": "b91192fa",
   "metadata": {},
   "outputs": [],
   "source": [
    "train_size = 0.4\n",
    "val_test_size = 0.3\n",
    "\n",
    "#full_train, full_temp = train_test_split(full_df, test_size=1 - train_size, random_state=1)"
   ]
  },
  {
   "cell_type": "code",
   "execution_count": 26,
   "metadata": {},
   "outputs": [
    {
     "data": {
      "text/plain": [
       "0"
      ]
     },
     "execution_count": 26,
     "metadata": {},
     "output_type": "execute_result"
    }
   ],
   "source": [
    "#full_train.write_csv(\"data/exported/full_train.csv\")\n",
    "\n",
    "#del full_train\n",
    "#gc.collect()"
   ]
  },
  {
   "cell_type": "code",
   "execution_count": 27,
   "metadata": {},
   "outputs": [],
   "source": [
    "#full_validation, full_test = train_test_split(full_temp, test_size=0.5, random_state=1)"
   ]
  },
  {
   "cell_type": "code",
   "execution_count": 28,
   "id": "59131037",
   "metadata": {},
   "outputs": [],
   "source": [
    "#full_test.write_csv(\"data/exported/full_test.csv\")\n",
    "#full_validation.write_csv(\"data/exported/full_validation.csv\")"
   ]
  },
  {
   "cell_type": "markdown",
   "metadata": {},
   "source": [
    "We will continue this work in the 2nd notebook for this project. 02_EDA_model01_LendingClub"
   ]
  }
 ],
 "metadata": {
  "kernelspec": {
   "display_name": "Python 3 (ipykernel)",
   "language": "python",
   "name": "python3"
  },
  "language_info": {
   "codemirror_mode": {
    "name": "ipython",
    "version": 3
   },
   "file_extension": ".py",
   "mimetype": "text/x-python",
   "name": "python",
   "nbconvert_exporter": "python",
   "pygments_lexer": "ipython3",
   "version": "3.11.5"
  },
  "toc": {
   "base_numbering": 1,
   "nav_menu": {},
   "number_sections": true,
   "sideBar": true,
   "skip_h1_title": false,
   "title_cell": "Table of Contents",
   "title_sidebar": "Contents",
   "toc_cell": false,
   "toc_position": {},
   "toc_section_display": true,
   "toc_window_display": false
  }
 },
 "nbformat": 4,
 "nbformat_minor": 5
}
